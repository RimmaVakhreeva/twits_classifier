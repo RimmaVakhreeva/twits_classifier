{
 "cells": [
  {
   "cell_type": "markdown",
   "source": [
    "To execute the code, enter it into a cell and click the \"Play\" button on the cell's left or press \"Shift + Enter\" on your keyboard. The code will run in the Colab environment, with results displayed directly under the cell. For running the entire notebook, select \"Runtime\" and choose \"Run all.\n",
    "\n"
   ],
   "metadata": {
    "collapsed": false
   },
   "id": "4697b73d6060f4af"
  },
  {
   "cell_type": "code",
   "execution_count": 1,
   "outputs": [
    {
     "name": "stdout",
     "output_type": "stream",
     "text": [
      "Requirement already satisfied: nltk in ./venv/lib/python3.9/site-packages (3.8.1)\r\n",
      "Requirement already satisfied: click in ./venv/lib/python3.9/site-packages (from nltk) (8.1.7)\r\n",
      "Requirement already satisfied: joblib in ./venv/lib/python3.9/site-packages (from nltk) (1.4.0)\r\n",
      "Requirement already satisfied: regex>=2021.8.3 in ./venv/lib/python3.9/site-packages (from nltk) (2024.4.16)\r\n",
      "Requirement already satisfied: tqdm in ./venv/lib/python3.9/site-packages (from nltk) (4.66.2)\r\n",
      "\r\n",
      "\u001B[1m[\u001B[0m\u001B[34;49mnotice\u001B[0m\u001B[1;39;49m]\u001B[0m\u001B[39;49m A new release of pip is available: \u001B[0m\u001B[31;49m23.2.1\u001B[0m\u001B[39;49m -> \u001B[0m\u001B[32;49m24.0\u001B[0m\r\n",
      "\u001B[1m[\u001B[0m\u001B[34;49mnotice\u001B[0m\u001B[1;39;49m]\u001B[0m\u001B[39;49m To update, run: \u001B[0m\u001B[32;49mpip install --upgrade pip\u001B[0m\r\n",
      "Requirement already satisfied: numpy in ./venv/lib/python3.9/site-packages (1.26.4)\r\n",
      "\r\n",
      "\u001B[1m[\u001B[0m\u001B[34;49mnotice\u001B[0m\u001B[1;39;49m]\u001B[0m\u001B[39;49m A new release of pip is available: \u001B[0m\u001B[31;49m23.2.1\u001B[0m\u001B[39;49m -> \u001B[0m\u001B[32;49m24.0\u001B[0m\r\n",
      "\u001B[1m[\u001B[0m\u001B[34;49mnotice\u001B[0m\u001B[1;39;49m]\u001B[0m\u001B[39;49m To update, run: \u001B[0m\u001B[32;49mpip install --upgrade pip\u001B[0m\r\n",
      "Requirement already satisfied: pandas in ./venv/lib/python3.9/site-packages (2.2.2)\r\n",
      "Requirement already satisfied: numpy>=1.22.4 in ./venv/lib/python3.9/site-packages (from pandas) (1.26.4)\r\n",
      "Requirement already satisfied: python-dateutil>=2.8.2 in ./venv/lib/python3.9/site-packages (from pandas) (2.9.0.post0)\r\n",
      "Requirement already satisfied: pytz>=2020.1 in ./venv/lib/python3.9/site-packages (from pandas) (2024.1)\r\n",
      "Requirement already satisfied: tzdata>=2022.7 in ./venv/lib/python3.9/site-packages (from pandas) (2024.1)\r\n",
      "Requirement already satisfied: six>=1.5 in ./venv/lib/python3.9/site-packages (from python-dateutil>=2.8.2->pandas) (1.16.0)\r\n",
      "\r\n",
      "\u001B[1m[\u001B[0m\u001B[34;49mnotice\u001B[0m\u001B[1;39;49m]\u001B[0m\u001B[39;49m A new release of pip is available: \u001B[0m\u001B[31;49m23.2.1\u001B[0m\u001B[39;49m -> \u001B[0m\u001B[32;49m24.0\u001B[0m\r\n",
      "\u001B[1m[\u001B[0m\u001B[34;49mnotice\u001B[0m\u001B[1;39;49m]\u001B[0m\u001B[39;49m To update, run: \u001B[0m\u001B[32;49mpip install --upgrade pip\u001B[0m\r\n",
      "Requirement already satisfied: scikit-learn in ./venv/lib/python3.9/site-packages (1.4.2)\r\n",
      "Requirement already satisfied: numpy>=1.19.5 in ./venv/lib/python3.9/site-packages (from scikit-learn) (1.26.4)\r\n",
      "Requirement already satisfied: scipy>=1.6.0 in ./venv/lib/python3.9/site-packages (from scikit-learn) (1.13.0)\r\n",
      "Requirement already satisfied: joblib>=1.2.0 in ./venv/lib/python3.9/site-packages (from scikit-learn) (1.4.0)\r\n",
      "Requirement already satisfied: threadpoolctl>=2.0.0 in ./venv/lib/python3.9/site-packages (from scikit-learn) (3.4.0)\r\n",
      "\r\n",
      "\u001B[1m[\u001B[0m\u001B[34;49mnotice\u001B[0m\u001B[1;39;49m]\u001B[0m\u001B[39;49m A new release of pip is available: \u001B[0m\u001B[31;49m23.2.1\u001B[0m\u001B[39;49m -> \u001B[0m\u001B[32;49m24.0\u001B[0m\r\n",
      "\u001B[1m[\u001B[0m\u001B[34;49mnotice\u001B[0m\u001B[1;39;49m]\u001B[0m\u001B[39;49m To update, run: \u001B[0m\u001B[32;49mpip install --upgrade pip\u001B[0m\r\n",
      "Requirement already satisfied: torch in ./venv/lib/python3.9/site-packages (2.2.2)\r\n",
      "Requirement already satisfied: filelock in ./venv/lib/python3.9/site-packages (from torch) (3.13.4)\r\n",
      "Requirement already satisfied: typing-extensions>=4.8.0 in ./venv/lib/python3.9/site-packages (from torch) (4.11.0)\r\n",
      "Requirement already satisfied: sympy in ./venv/lib/python3.9/site-packages (from torch) (1.12)\r\n",
      "Requirement already satisfied: networkx in ./venv/lib/python3.9/site-packages (from torch) (3.2.1)\r\n",
      "Requirement already satisfied: jinja2 in ./venv/lib/python3.9/site-packages (from torch) (3.1.3)\r\n",
      "Requirement already satisfied: fsspec in ./venv/lib/python3.9/site-packages (from torch) (2024.3.1)\r\n",
      "Requirement already satisfied: MarkupSafe>=2.0 in ./venv/lib/python3.9/site-packages (from jinja2->torch) (2.1.5)\r\n",
      "Requirement already satisfied: mpmath>=0.19 in ./venv/lib/python3.9/site-packages (from sympy->torch) (1.3.0)\r\n",
      "\r\n",
      "\u001B[1m[\u001B[0m\u001B[34;49mnotice\u001B[0m\u001B[1;39;49m]\u001B[0m\u001B[39;49m A new release of pip is available: \u001B[0m\u001B[31;49m23.2.1\u001B[0m\u001B[39;49m -> \u001B[0m\u001B[32;49m24.0\u001B[0m\r\n",
      "\u001B[1m[\u001B[0m\u001B[34;49mnotice\u001B[0m\u001B[1;39;49m]\u001B[0m\u001B[39;49m To update, run: \u001B[0m\u001B[32;49mpip install --upgrade pip\u001B[0m\r\n",
      "Requirement already satisfied: tqdm in ./venv/lib/python3.9/site-packages (4.66.2)\r\n",
      "\r\n",
      "\u001B[1m[\u001B[0m\u001B[34;49mnotice\u001B[0m\u001B[1;39;49m]\u001B[0m\u001B[39;49m A new release of pip is available: \u001B[0m\u001B[31;49m23.2.1\u001B[0m\u001B[39;49m -> \u001B[0m\u001B[32;49m24.0\u001B[0m\r\n",
      "\u001B[1m[\u001B[0m\u001B[34;49mnotice\u001B[0m\u001B[1;39;49m]\u001B[0m\u001B[39;49m To update, run: \u001B[0m\u001B[32;49mpip install --upgrade pip\u001B[0m\r\n",
      "Requirement already satisfied: matplotlib in ./venv/lib/python3.9/site-packages (3.8.4)\r\n",
      "Requirement already satisfied: contourpy>=1.0.1 in ./venv/lib/python3.9/site-packages (from matplotlib) (1.2.1)\r\n",
      "Requirement already satisfied: cycler>=0.10 in ./venv/lib/python3.9/site-packages (from matplotlib) (0.12.1)\r\n",
      "Requirement already satisfied: fonttools>=4.22.0 in ./venv/lib/python3.9/site-packages (from matplotlib) (4.51.0)\r\n",
      "Requirement already satisfied: kiwisolver>=1.3.1 in ./venv/lib/python3.9/site-packages (from matplotlib) (1.4.5)\r\n",
      "Requirement already satisfied: numpy>=1.21 in ./venv/lib/python3.9/site-packages (from matplotlib) (1.26.4)\r\n",
      "Requirement already satisfied: packaging>=20.0 in ./venv/lib/python3.9/site-packages (from matplotlib) (24.0)\r\n",
      "Requirement already satisfied: pillow>=8 in ./venv/lib/python3.9/site-packages (from matplotlib) (10.3.0)\r\n",
      "Requirement already satisfied: pyparsing>=2.3.1 in ./venv/lib/python3.9/site-packages (from matplotlib) (3.1.2)\r\n",
      "Requirement already satisfied: python-dateutil>=2.7 in ./venv/lib/python3.9/site-packages (from matplotlib) (2.9.0.post0)\r\n",
      "Requirement already satisfied: importlib-resources>=3.2.0 in ./venv/lib/python3.9/site-packages (from matplotlib) (6.4.0)\r\n",
      "Requirement already satisfied: zipp>=3.1.0 in ./venv/lib/python3.9/site-packages (from importlib-resources>=3.2.0->matplotlib) (3.18.1)\r\n",
      "Requirement already satisfied: six>=1.5 in ./venv/lib/python3.9/site-packages (from python-dateutil>=2.7->matplotlib) (1.16.0)\r\n",
      "\r\n",
      "\u001B[1m[\u001B[0m\u001B[34;49mnotice\u001B[0m\u001B[1;39;49m]\u001B[0m\u001B[39;49m A new release of pip is available: \u001B[0m\u001B[31;49m23.2.1\u001B[0m\u001B[39;49m -> \u001B[0m\u001B[32;49m24.0\u001B[0m\r\n",
      "\u001B[1m[\u001B[0m\u001B[34;49mnotice\u001B[0m\u001B[1;39;49m]\u001B[0m\u001B[39;49m To update, run: \u001B[0m\u001B[32;49mpip install --upgrade pip\u001B[0m\r\n",
      "Requirement already satisfied: xlrd in ./venv/lib/python3.9/site-packages (2.0.1)\r\n",
      "\r\n",
      "\u001B[1m[\u001B[0m\u001B[34;49mnotice\u001B[0m\u001B[1;39;49m]\u001B[0m\u001B[39;49m A new release of pip is available: \u001B[0m\u001B[31;49m23.2.1\u001B[0m\u001B[39;49m -> \u001B[0m\u001B[32;49m24.0\u001B[0m\r\n",
      "\u001B[1m[\u001B[0m\u001B[34;49mnotice\u001B[0m\u001B[1;39;49m]\u001B[0m\u001B[39;49m To update, run: \u001B[0m\u001B[32;49mpip install --upgrade pip\u001B[0m\r\n"
     ]
    }
   ],
   "source": [
    "!pip install nltk # Install NLTK for natural language processing tasks\n",
    "!pip install numpy # Install NumPy for numerical computations\n",
    "!pip install pandas # Install pandas for data manipulation and analysis\n",
    "!pip install scikit-learn # Install scikit-learn for machine learning\n",
    "!pip install torch # Install PyTorch for deep learning\n",
    "!pip install tqdm # Install tqdm for progress bars during loops\n",
    "!pip install matplotlib # Install matplotlib to plot accuracy plots\n",
    "!pip install xlrd # Install xlrd for reading Excel files"
   ],
   "metadata": {
    "collapsed": false,
    "ExecuteTime": {
     "end_time": "2024-04-21T10:34:02.131895Z",
     "start_time": "2024-04-21T10:33:53.869731Z"
    }
   },
   "id": "5a3ca83d991f4e5d"
  },
  {
   "cell_type": "code",
   "execution_count": 2,
   "outputs": [
    {
     "name": "stderr",
     "output_type": "stream",
     "text": [
      "[nltk_data] Downloading package stopwords to\n",
      "[nltk_data]     /Users/rimma_vakhreeva/nltk_data...\n",
      "[nltk_data]   Package stopwords is already up-to-date!\n",
      "[nltk_data] Downloading package punkt to\n",
      "[nltk_data]     /Users/rimma_vakhreeva/nltk_data...\n",
      "[nltk_data]   Package punkt is already up-to-date!\n",
      "[nltk_data] Downloading package wordnet to\n",
      "[nltk_data]     /Users/rimma_vakhreeva/nltk_data...\n",
      "[nltk_data]   Package wordnet is already up-to-date!\n",
      "[nltk_data] Downloading package sentiwordnet to\n",
      "[nltk_data]     /Users/rimma_vakhreeva/nltk_data...\n",
      "[nltk_data]   Package sentiwordnet is already up-to-date!\n",
      "[nltk_data] Downloading package averaged_perceptron_tagger to\n",
      "[nltk_data]     /Users/rimma_vakhreeva/nltk_data...\n",
      "[nltk_data]   Package averaged_perceptron_tagger is already up-to-\n",
      "[nltk_data]       date!\n"
     ]
    }
   ],
   "source": [
    "# Import libraries\n",
    "\n",
    "import logging\n",
    "import math\n",
    "import re\n",
    "import multiprocessing\n",
    "from pathlib import Path\n",
    "from typing import Dict, List, Tuple, Optional\n",
    "\n",
    "import nltk\n",
    "import numpy as np\n",
    "import pandas as pd\n",
    "import tqdm\n",
    "import torch\n",
    "import torch.nn as nn\n",
    "import torch.optim as optim\n",
    "from torch.optim.lr_scheduler import StepLR\n",
    "from torch.utils.data import DataLoader\n",
    "\n",
    "import random\n",
    "import matplotlib.pyplot as plt\n",
    "\n",
    "from nltk.corpus import sentiwordnet as swn\n",
    "from nltk.corpus import stopwords\n",
    "from nltk.tokenize import word_tokenize\n",
    "\n",
    "nltk.download('stopwords')\n",
    "nltk.download('punkt')\n",
    "nltk.download('wordnet')\n",
    "nltk.download('sentiwordnet')\n",
    "nltk.download('averaged_perceptron_tagger')\n",
    "\n",
    "multiprocessing.set_start_method('fork')"
   ],
   "metadata": {
    "collapsed": false,
    "ExecuteTime": {
     "end_time": "2024-04-21T10:34:05.141988Z",
     "start_time": "2024-04-21T10:34:02.135220Z"
    }
   },
   "id": "9566ed79921bf612"
  },
  {
   "cell_type": "code",
   "execution_count": 3,
   "outputs": [],
   "source": [
    "EMD_DIM = 200  # Set embedding dimension size\n",
    "\n",
    "class GloveEmbeddingsIndex:\n",
    "    # Path to the GloVe embeddings file, formatted to include embedding dimension in filename\n",
    "    GLOVE_FILE_PATH = Path(\"./\") / f\"./glove.twitter.27B.{EMD_DIM}d.txt\"\n",
    "\n",
    "    def __init__(self):\n",
    "        self.cached_embeddings = {}  # Cache for storing loaded embeddings to avoid re-reading the file\n",
    "        self._index = self._build_glove_file_index()  # Build an index for fast lookup of embeddings\n",
    "        # Generate embeddings for special tokens: beginning of sentence, end of sentence, and unknown words\n",
    "        self._bos_emb = np.random.uniform(-0.25, 0.25, EMD_DIM)\n",
    "        self._eos_emb = np.random.uniform(-0.25, 0.25, EMD_DIM)\n",
    "        self.unknown_emb = np.random.uniform(-0.25, 0.25, EMD_DIM)\n",
    "\n",
    "    def get_embedding_for_word(self, word: str) -> np.ndarray:\n",
    "        word = word.lower()  # Normalize word to lowercase\n",
    "        # Return special embeddings for beginning and end of sentence tokens\n",
    "        if word == \"<bos>\":\n",
    "            return self._bos_emb\n",
    "        elif word == \"<eos>\":\n",
    "            return self._eos_emb\n",
    "        # Return cached embedding if available\n",
    "        elif word in self.cached_embeddings:\n",
    "            return self.cached_embeddings[word]\n",
    "\n",
    "        # Look up word position in index and read its embedding from file\n",
    "        position = self._index.get(word.lower(), None)\n",
    "        if position is not None:\n",
    "            with open(self.GLOVE_FILE_PATH, 'r', encoding='utf-8') as file:\n",
    "                # Skip lines to the word's position\n",
    "                _ = [file.readline() for _ in range(position)]\n",
    "                line_split = file.readline().split()\n",
    "                found_word, embedding = line_split[0], line_split[1:]\n",
    "                # Ensure the found word matches the requested word\n",
    "                assert found_word == word, f\"Invalid logic: found_word={found_word} != request_word={word}\"\n",
    "                # Convert string embeddings to float and cache\n",
    "                embedding = np.array([float(val) for val in embedding], dtype=np.float32)\n",
    "                self.cached_embeddings[word] = embedding\n",
    "                return embedding\n",
    "        else:\n",
    "            # Return and cache unknown word embedding if word not found\n",
    "            self.cached_embeddings[word] = self.unknown_emb\n",
    "            return self.unknown_emb\n",
    "\n",
    "    def _build_glove_file_index(self) -> Dict[str, int]:\n",
    "        # Create an index mapping words to their line numbers in the GloVe file for quick access\n",
    "        logging.info(\"Loading glove embedding index\")\n",
    "        index = {}\n",
    "        with open(self.GLOVE_FILE_PATH, 'r', encoding='utf-8') as file:\n",
    "            for position, line in enumerate(file):\n",
    "                line_split = line.split()\n",
    "                word = line_split[0]\n",
    "                # Preload embeddings into cache\n",
    "                embedding = np.array([float(val) for val in line_split[1:]], dtype=np.float32)\n",
    "                index[word] = position\n",
    "                self.cached_embeddings[word] = embedding\n",
    "        return index\n",
    "\n",
    "    def vocab(self) -> List[str]:\n",
    "        # Return a list of all words for which embeddings are available\n",
    "        return list(self._index.keys())\n"
   ],
   "metadata": {
    "collapsed": false,
    "ExecuteTime": {
     "end_time": "2024-04-21T10:34:05.156775Z",
     "start_time": "2024-04-21T10:34:05.142506Z"
    }
   },
   "id": "9257654e4eb91ff0"
  },
  {
   "cell_type": "code",
   "execution_count": 4,
   "outputs": [],
   "source": [
    "from collections import Counter\n",
    "\n",
    "\n",
    "class TweetItem:\n",
    "    # Dictionary mapping slang acronyms to their expanded forms\n",
    "    SLANG_ACRONYMS = {\n",
    "        'idts': 'I do not think so', 'icymi': 'In Case You Missed It', 'lol': 'laugh out loud', 'brb': 'be right back',\n",
    "        'btw': 'by the way', 'imo': 'in my opinion', 'imho': 'in my humble opinion', 'smh': 'shaking my head',\n",
    "        'tbh': 'to be honest', 'rofl': 'rolling on the floor laughing', 'bff': 'best friends forever',\n",
    "        'nvm': 'never mind', 'idk': 'I do not know', 'tbt': 'throwback Thursday', 'fomo': 'fear of missing out',\n",
    "        'ftw': 'for the win', 'gg': 'good game', 'irl': 'in real life', 'jk': 'just kidding',\n",
    "        'lmao': 'laughing my ass off', 'omg': 'oh my god', 'ppl': 'people', 'thx': 'thanks',\n",
    "        'ttyl': 'talk to you later', 'yolo': 'you only live once'\n",
    "    }\n",
    "    # Dictionary mapping emoji to their described emotions\n",
    "    EMOJI_EMOTIONS = {\n",
    "        ':)': 'happy', ':(': 'sad', '😊': 'smiling face with smiling eyes', '😂': 'face with tears of joy',\n",
    "        '😢': 'crying face',\n",
    "        '😠': 'angry face', '❤️': 'red heart', '👍': 'thumbs up', '👎': 'thumbs down', '😱': 'face screaming in fear',\n",
    "        '🎉': 'party popper', '💔': 'broken heart', '😍': 'smiling face with heart-eyes', '😒': 'unamused face',\n",
    "        '😉': 'winking face',\n",
    "        '😜': 'winking face with tongue', '🙏': 'folded hands', '😐': 'neutral face', '😴': 'sleeping face',\n",
    "        '💤': 'sleeping symbol',\n",
    "        '😡': 'pouting face', '🤔': 'thinking face', '🤣': 'rolling on the floor laughing', '😇': 'smiling face with halo',\n",
    "        '🤗': 'hugging face', '😔': 'pensive face', '😏': 'smirking face', '🥳': 'partying face', '🤯': 'exploding head',\n",
    "        '🥺': 'pleading face', '🤩': 'star-struck', '😓': 'downcast face with sweat', '😖': 'confounded face',\n",
    "        '🥰': 'smiling face with hearts', '😘': 'face blowing a kiss', '😷': 'face with medical mask'\n",
    "    }\n",
    "    # Mapping of contractions and negative references to their expanded forms\n",
    "    NEGATIVE_REF_REPLACEMENTS = {\n",
    "        \"won't\": \"will not\", \"can't\": \"cannot\", \"n't\": \" not\", \"isn't\": \"is not\",\n",
    "        \"aren't\": \"are not\", \"wasn't\": \"was not\", \"weren't\": \"were not\", \"haven't\": \"have not\",\n",
    "        \"hasn't\": \"has not\", \"hadn't\": \"had not\", \"doesn't\": \"does not\", \"don't\": \"do not\",\n",
    "        \"didn't\": \"did not\", \"won’t\": \"will not\", \"can’t\": \"cannot\", \"shan't\": \"shall not\",\n",
    "        \"shan’t\": \"shall not\", \"shouldn't\": \"should not\", \"shouldn’t\": \"should not\", \"couldn't\": \"could not\",\n",
    "        \"couldn’t\": \"could not\", \"mightn't\": \"might not\", \"mightn’t\": \"might not\", \"mustn't\": \"must not\",\n",
    "        \"mustn’t\": \"must not\"\n",
    "    }\n",
    "\n",
    "    def __init__(self, text: str):\n",
    "        assert type(text) is str, f\"Invalid data: {text}\"\n",
    "        self.text = text  # Original tweet text\n",
    "        # Statistics for analyzing the text\n",
    "        self._stats = {\n",
    "            \"emoji_num\": 0,  # Number of emojis\n",
    "            \"hashtag_num\": self.text.count(\"#\"),  # Number of hashtags\n",
    "            \"negation_num\": 0,  # Number of negative references\n",
    "            \"capitalized_num\": sum(int(l.isupper()) for l in self.text),  # Number of capitalized letters\n",
    "        }\n",
    "        # Normalized text after preprocessing\n",
    "        self.normalized_text = self._normalize(self.text)\n",
    "        # Tokenized version of the normalized text\n",
    "        self.normalized_tokens = self._tokenize(self.normalized_text)\n",
    "\n",
    "    @staticmethod\n",
    "    # Dummy method for POS tagging (not implemented in the snippet)\n",
    "    def _tag_pos(text: str) -> Dict[str, int]:\n",
    "        tagged = nltk.pos_tag(nltk.word_tokenize(text))\n",
    "        return Counter([pos for _, pos in tagged]).values()\n",
    "\n",
    "    @staticmethod\n",
    "    #  Calculate Pointwise Mutual Information (PMI) for a word with respect to sentiment\n",
    "    def pmi(word: str, sentiment: str, tokens: List[str]) -> float:\n",
    "        word_count = tokens.count(word)\n",
    "        sentiment_count = 1 if sentiment in tokens else 0\n",
    "        word_sentiment_count = 1 if word in tokens and sentiment in tokens else 0\n",
    "        total_words = len(tokens)\n",
    "\n",
    "        p_word = word_count / total_words\n",
    "        p_sentiment = sentiment_count / total_words\n",
    "        p_word_sentiment = word_sentiment_count / total_words\n",
    "\n",
    "        pmi_score = math.log2((p_word_sentiment + 1e-8) / ((p_word + 1e-8) * (p_sentiment + 1e-8)))\n",
    "        return pmi_score\n",
    "\n",
    "    @staticmethod\n",
    "    # Compute sentiment polarity scores for each token\n",
    "    def sentiment_polarity_scores(tokens: List[str]) -> List[float]:\n",
    "        scores = []\n",
    "        for token in tokens:\n",
    "            synsets = list(swn.senti_synsets(token))\n",
    "            if synsets:\n",
    "                pos_scores = [synset.pos_score() for synset in synsets]\n",
    "                neg_scores = [synset.neg_score() for synset in synsets]\n",
    "                avg_pos_score = sum(pos_scores) / len(pos_scores)\n",
    "                avg_neg_score = sum(neg_scores) / len(neg_scores)\n",
    "                score = avg_pos_score - avg_neg_score\n",
    "            else:\n",
    "                pos_pmi = TweetItem.pmi(token, \"positive\", tokens)\n",
    "                neg_pmi = TweetItem.pmi(token, \"negative\", tokens)\n",
    "                score = pos_pmi - neg_pmi\n",
    "            scores.append(score)\n",
    "        return scores\n",
    "\n",
    "    # Remove URLs from the text\n",
    "    def _remove_urls(self, text: str) -> str:\n",
    "        return re.sub(\n",
    "            r'http[s]?://(?:[a-zA-Z]|[0-9]|[$-_@.&+]|[!*\\\\(\\\\),]|(?:%[0-9a-fA-F][0-9a-fA-F]))+',\n",
    "            'an url', text\n",
    "        )\n",
    "\n",
    "    # Remove numbers from the text\n",
    "    def _remove_numbers(self, text: str) -> str:\n",
    "        return re.sub(r'\\d+', '', text)\n",
    "    # Replace negative references in the text with their expanded forms\n",
    "    def _replace_negative_references(self, text: str) -> str:\n",
    "        for key, value in self.NEGATIVE_REF_REPLACEMENTS.items():\n",
    "            self._stats[\"negation_num\"] += text.count(key)\n",
    "            text = text.replace(key, value)\n",
    "        return text\n",
    "\n",
    "    # Expand acronyms and slang in the text\n",
    "    def _expand_acronyms_slang(self, text: str) -> str:\n",
    "        words = text.split()\n",
    "        expanded_words = [\n",
    "            self.SLANG_ACRONYMS[word.lower()] if word.lower() in self.SLANG_ACRONYMS else word\n",
    "            for word in words\n",
    "        ]\n",
    "        return ' '.join(expanded_words)\n",
    "\n",
    "    # Remove stopwords from the text\n",
    "    def _remove_stopwords(self, text: str) -> str:\n",
    "        stop_words = set(stopwords.words('english'))\n",
    "        words = text.split()\n",
    "        filtered_words = [word for word in words if word.lower() not in stop_words]\n",
    "        return ' '.join(filtered_words)\n",
    "\n",
    "    # Replace emoticons and emoji in the text with words\n",
    "    def _replace_emoticons_emoji(self, text: str) -> str:\n",
    "        for key, value in self.EMOJI_EMOTIONS.items():\n",
    "            self._stats[\"emoji_num\"] += text.count(key)\n",
    "            text = text.replace(key, value)\n",
    "        return text\n",
    "\n",
    "    # Normalize the tweet text by applying preprocessing functions\n",
    "    def _normalize(self, text: str) -> str:\n",
    "        text = self._remove_urls(text)\n",
    "        text = self._remove_numbers(text)\n",
    "        text = self._replace_negative_references(text)\n",
    "        text = self._expand_acronyms_slang(text)\n",
    "        text = self._remove_stopwords(text)\n",
    "        text = self._replace_emoticons_emoji(text)\n",
    "        return text\n",
    "\n",
    "    # Tokenize the text into words\n",
    "    def _tokenize(self, text: str) -> List[str]:\n",
    "        return [\"<bos>\"] + word_tokenize(text, language=\"english\", preserve_line=False) + [\"<eos>\"]\n",
    "\n",
    "    # Generate n-grams from the tokenized text\n",
    "    def n_grams_vocab_counter(self, ngram_range: Tuple = (1, 2)) -> Counter:\n",
    "        all_vocab = None\n",
    "        for n in ngram_range:\n",
    "            if all_vocab is None:\n",
    "                all_vocab = Counter(nltk.ngrams(self.normalized_tokens, n))\n",
    "            else:\n",
    "                all_vocab = all_vocab + Counter(nltk.ngrams(self.normalized_tokens, n))\n",
    "        return all_vocab\n",
    "\n",
    "    # Generate a feature vector for the tweet using embeddings and other features\n",
    "    def generate_feature_vector(\n",
    "            self,\n",
    "            embedding_index: GloveEmbeddingsIndex,\n",
    "            max_length: int,\n",
    "            vocab: List[str],\n",
    "            ngram_range: Tuple = (1, 2),\n",
    "    ) -> np.ndarray:\n",
    "        word_embeddings = np.stack([embedding_index.get_embedding_for_word(t) for t in self.normalized_tokens], axis=0)\n",
    "        pad_size = max_length - len(self.normalized_tokens)\n",
    "        if len(word_embeddings) < max_length:\n",
    "            padded = np.array([embedding_index.unknown_emb] * pad_size, dtype=np.float32)\n",
    "            word_embeddings = np.concatenate([word_embeddings, padded], axis=0)\n",
    "            sentiment_scores_vector = np.array(self.sentiment_polarity_scores(self.normalized_tokens) + ([-1] * pad_size),\n",
    "                                               dtype=np.float32).reshape((-1, 1))\n",
    "        else:\n",
    "            word_embeddings = word_embeddings[:max_length]\n",
    "            sentiment_scores_vector = np.array(self.sentiment_polarity_scores(self.normalized_tokens)[:max_length],\n",
    "                                               dtype=np.float32).reshape((-1, 1))\n",
    "\n",
    "        local_vocab_counter = dict(self.n_grams_vocab_counter(ngram_range))\n",
    "        unigram_bigram_vector = np.array([local_vocab_counter.get(v, 0) for v in vocab], dtype=np.float32)\n",
    "\n",
    "        twitter_specific_vector = np.array([\n",
    "            self._stats[\"emoji_num\"], self._stats[\"hashtag_num\"], self._stats[\"negation_num\"],\n",
    "            self._stats[\"capitalized_num\"],  # self._stats[\"pos\"],\n",
    "        ])\n",
    "\n",
    "        extra_data = np.concatenate([unigram_bigram_vector, twitter_specific_vector]).reshape((1, -1))\n",
    "        extra_data = np.repeat(extra_data, (max_length,), axis=0)\n",
    "        return np.concatenate((word_embeddings, sentiment_scores_vector, extra_data), axis=1).astype(np.float32)\n"
   ],
   "metadata": {
    "collapsed": false,
    "ExecuteTime": {
     "end_time": "2024-04-21T10:34:05.179003Z",
     "start_time": "2024-04-21T10:34:05.147824Z"
    }
   },
   "id": "7dbb0233f6e85ea5"
  },
  {
   "cell_type": "code",
   "execution_count": 5,
   "outputs": [],
   "source": [
    "def load_stsgd(path: Path = Path(\"./\") / \"STSGd_.xls\") -> Tuple[np.ndarray, np.ndarray]:\n",
    "    # Internal function to convert sentiment ratings to a normalized scale\n",
    "    def _convert_ratings(data):\n",
    "        # Calculate the difference between positive and negative mean scores\n",
    "        difference = data[\"mean pos\"] - data[\"mean neg\"]\n",
    "        # Normalize the difference to fit within a 0-4 scale\n",
    "        normalized_diff = (difference + 4) / 2\n",
    "        # Round and ensure values are within the 0-4 range\n",
    "        return normalized_diff.map(lambda x: int(round(max(0.0, min(4.0, x)))))\n",
    "\n",
    "    # Load the dataset from an Excel file\n",
    "    data = pd.read_excel(path)\n",
    "    # Extract tweets and their corresponding normalized sentiment ratings\n",
    "    return data[\"tweet\"].tolist(), _convert_ratings(data).tolist()\n",
    "\n",
    "def load_sentiment_140(path: Path = Path(\"./\") / \"training.1600000.processed.noemoticon.csv\") -> Tuple[np.ndarray, np.ndarray]:\n",
    "    # Load the dataset from a CSV file, ignoring encoding errors\n",
    "    data = pd.read_csv(path, encoding_errors=\"ignore\", header=None)\n",
    "    # Rename columns for clarity\n",
    "    data = data.rename(columns={0: 'target', 1: 'ids', 2: 'date', 3: 'flag', 4: 'user', 5: 'text'})\n",
    "    # Extract tweets and their corresponding sentiment labels\n",
    "    return data[\"text\"].tolist(), data[\"target\"].tolist()\n",
    "\n",
    "# Dictionary mapping dataset names to their respective loading functions\n",
    "ds_readers = {\n",
    "    \"STSGd\": load_stsgd,  # Function to load the STSGd dataset\n",
    "    \"Sentiment140\": load_sentiment_140  # Function to load the Sentiment140 dataset\n",
    "}\n"
   ],
   "metadata": {
    "collapsed": false,
    "ExecuteTime": {
     "end_time": "2024-04-21T10:34:05.186969Z",
     "start_time": "2024-04-21T10:34:05.170076Z"
    }
   },
   "id": "e1b4660bca183735"
  },
  {
   "cell_type": "code",
   "execution_count": 6,
   "outputs": [],
   "source": [
    "class Dataset:\n",
    "    def __init__(\n",
    "            self,\n",
    "            ngram_range: Tuple = (1, 2),  # Specifies the range of n-grams to be considered\n",
    "            tweet_max_tokens_num: int = 128,  # Maximum number of tokens per tweet\n",
    "            datasets: Tuple = (\"STSGd\", \"Sentiment140\"),  # Names of datasets to load\n",
    "            top_k_for_ngram: int = 512,  # Number of top n-grams to retain\n",
    "            limit: Optional[int] = None,  # Limit on the number of tweets to load\n",
    "            seed: int = 42,  # Random seed for shuffling\n",
    "            test_split_ratio: float = 0.2  # Ratio for splitting data into training and test sets\n",
    "    ):\n",
    "        self.ngram_range = ngram_range\n",
    "        self.tweet_max_tokens_num = tweet_max_tokens_num\n",
    "        self.is_train = True  # Flag to toggle between training and evaluation modes\n",
    "        self.x, self.y = [], []  # Lists to store tweet texts and their labels\n",
    "        self.random = random.Random(seed)  # Random number generator\n",
    "        self.emb_index = GloveEmbeddingsIndex()  # Instance of GloveEmbeddingsIndex for accessing embeddings\n",
    "\n",
    "        # Load data from specified datasets\n",
    "        for ds in datasets:\n",
    "            x, y = ds_readers[ds]()\n",
    "            self.x += x\n",
    "            self.y += y\n",
    "\n",
    "        # Shuffle the data\n",
    "        indices = list(range(len(self.x)))\n",
    "        self.random.shuffle(indices)\n",
    "        self.x = [self.x[i] for i in indices]\n",
    "        self.y = [self.y[i] for i in indices]\n",
    "\n",
    "        # Apply limit if specified\n",
    "        if limit is not None:\n",
    "            self.x = self.x[:limit]\n",
    "            self.y = self.y[:limit]\n",
    "\n",
    "        # Normalize and tokenize tweets\n",
    "        self.x = [TweetItem(text) for text in tqdm.tqdm(self.x, desc=\"creating dataset\")]\n",
    "        # Retrieve global vocabulary from the dataset\n",
    "        self.global_vocab: Counter = self._retrieve_global_vocab()\n",
    "        # Identify the most common vocabularies\n",
    "        self.most_common_vocab: List[Tuple] = [el for el, _ in self.global_vocab.most_common(top_k_for_ngram)]\n",
    "\n",
    "        # Split data into training and test sets\n",
    "        indices = list(range(len(self.x)))\n",
    "        self.random.shuffle(indices)\n",
    "        split_idx = set(indices[:int(len(self.x) * test_split_ratio)])\n",
    "        self.train_x = [row for i, row in enumerate(self.x) if i not in split_idx]\n",
    "        self.train_y = [row for i, row in enumerate(self.y) if i not in split_idx]\n",
    "        self.test_x = [row for i, row in enumerate(self.x) if i in split_idx]\n",
    "        self.test_y = [row for i, row in enumerate(self.y) if i in split_idx]\n",
    "\n",
    "    def eval(self):\n",
    "        # Switch to evaluation mode\n",
    "        self.is_train = False\n",
    "\n",
    "    def train(self):\n",
    "        # Switch to training mode\n",
    "        self.is_train = True\n",
    "\n",
    "    def _retrieve_global_vocab(self):\n",
    "        # Calculate global vocabulary from the dataset, limiting to the first 10,000 tweets for performance\n",
    "        c = Counter()\n",
    "        for row in tqdm.tqdm(self.x[:10000], desc=\"calculating global vocab\"):\n",
    "            c += row.n_grams_vocab_counter(self.ngram_range)\n",
    "        return c\n",
    "\n",
    "    @property\n",
    "    def emb_dim(self) -> int:\n",
    "        # Get embedding dimension\n",
    "        return self[0][0].shape[1]\n",
    "\n",
    "    def __getitem__(self, idx: int) -> Tuple[np.ndarray, np.ndarray]:\n",
    "        # Get item by index, for training or testing\n",
    "        x, y = (self.train_x[idx], self.train_y[idx]) if self.is_train else (self.test_x[idx], self.test_y[idx])\n",
    "        # Convert labels to categorical values\n",
    "        if y == 0:\n",
    "            y = 0\n",
    "        elif y in (1, 2, 3):\n",
    "            y = 1\n",
    "        else:\n",
    "            y = 2\n",
    "        # Generate feature vector for the tweet\n",
    "        vec = x.generate_feature_vector(embedding_index=self.emb_index,\n",
    "                                        max_length=self.tweet_max_tokens_num,\n",
    "                                        vocab=self.most_common_vocab,\n",
    "                                        ngram_range=self.ngram_range)\n",
    "        return vec, np.array(y, dtype=np.int64)\n",
    "\n",
    "    def __len__(self) -> int:\n",
    "        # Return the length of the dataset, depending on training or evaluation mode\n",
    "        return len(self.train_x) if self.is_train else len(self.test_x)\n"
   ],
   "metadata": {
    "collapsed": false,
    "ExecuteTime": {
     "end_time": "2024-04-21T10:34:05.187426Z",
     "start_time": "2024-04-21T10:34:05.179104Z"
    }
   },
   "id": "538444727ef9031c"
  },
  {
   "cell_type": "code",
   "execution_count": 7,
   "outputs": [],
   "source": [
    "class GloVeDCNN(nn.Module):\n",
    "    def __init__(self, emb_dim, num_filters, filter_sizes, num_classes, dropout_rate):\n",
    "        super(GloVeDCNN, self).__init__()\n",
    "        # Define a series of convolutional layers based on the specified filter sizes\n",
    "        self.convs = nn.ModuleList([\n",
    "            nn.Conv1d(emb_dim, num_filters, filter_size) for filter_size in filter_sizes\n",
    "        ])\n",
    "        # A fully connected layer that outputs the predictions for each class\n",
    "        self.fc = nn.Linear(len(filter_sizes) * num_filters, num_classes)\n",
    "        # Dropout layer to prevent overfitting by randomly dropping units during training\n",
    "        self.dropout = nn.Dropout(dropout_rate)\n",
    "\n",
    "    def forward(self, x):\n",
    "        # Rearrange tensor dimensions for convolution operations\n",
    "        x = x.permute(0, 2, 1)\n",
    "        # Apply ReLU activation function to the output of each convolutional layer\n",
    "        x = [torch.relu(conv(x)) for conv in self.convs]\n",
    "        # Apply max pooling to each convolution output to reduce its dimensionality\n",
    "        x = [torch.max_pool1d(conv_out, conv_out.shape[2]).squeeze(2) for conv_out in x]\n",
    "        # Concatenate all the convolutional layer outputs\n",
    "        x = torch.cat(x, dim=1)\n",
    "        # Apply dropout for regularization\n",
    "        x = self.dropout(x)\n",
    "        # Pass the final concatenated tensor through the fully connected layer to get class scores\n",
    "        x = self.fc(x)\n",
    "        return x\n"
   ],
   "metadata": {
    "collapsed": false,
    "ExecuteTime": {
     "end_time": "2024-04-21T10:34:05.187475Z",
     "start_time": "2024-04-21T10:34:05.183334Z"
    }
   },
   "id": "6bbf4d0ac9c807f4"
  },
  {
   "cell_type": "code",
   "execution_count": 8,
   "outputs": [],
   "source": [
    "def plot_acc(train_accuracy, test_accuracy):\n",
    "    epochs = list(range(1, len(train_accuracy) + 1))\n",
    "    plt.figure(figsize=(10, 6))\n",
    "    plt.plot(epochs, train_accuracy, label='Train Accuracy', marker='o')\n",
    "    plt.plot(epochs, test_accuracy, label='Test Accuracy', marker='x')\n",
    "    plt.title('Train vs Test Accuracy per Epoch')\n",
    "    plt.xlabel('Epoch')\n",
    "    plt.ylabel('Accuracy')\n",
    "    plt.legend()\n",
    "    plt.grid(True)\n",
    "    plt.show()"
   ],
   "metadata": {
    "collapsed": false,
    "ExecuteTime": {
     "end_time": "2024-04-21T10:34:05.195626Z",
     "start_time": "2024-04-21T10:34:05.187539Z"
    }
   },
   "id": "2e9cadd26979aa4b"
  },
  {
   "cell_type": "code",
   "execution_count": 9,
   "outputs": [],
   "source": [
    "def train(\n",
    "        num_filters: int = 256,\n",
    "        filter_sizes: Tuple = (3, 4, 5, 12),\n",
    "        dropout_rate: float = 0.05,\n",
    "        num_classes: int = 3,\n",
    "        test_split_ratio: float = 0.1,\n",
    "        batch_size: int = 2048,\n",
    "        num_epochs: int = 10,\n",
    "        learning_rate: float = 0.005,\n",
    "        lr_step_size: int = 1,\n",
    "        lr_gamma: float = 0.6,\n",
    "        datasets: Tuple = (\"STSGd\", \"Sentiment140\"),\n",
    "        num_workers: int = 16,\n",
    "        cuda: bool = True,\n",
    "        ds_limit_size: Optional[int] = None\n",
    "):\n",
    "    # Create the model, dataset, and data loader\n",
    "    ds = Dataset(datasets=datasets, seed=69, test_split_ratio=test_split_ratio, limit=ds_limit_size)\n",
    "    dataloader = DataLoader(ds, batch_size=batch_size, shuffle=True, num_workers=num_workers, drop_last=True)\n",
    "    model = GloVeDCNN(ds.emb_dim, num_filters, filter_sizes, num_classes, dropout_rate)\n",
    "    if cuda:\n",
    "        model = model.cuda()\n",
    "\n",
    "    # Define the loss function and optimizer\n",
    "    criterion = nn.CrossEntropyLoss()\n",
    "    optimizer = optim.Adam(model.parameters(), lr=learning_rate)\n",
    "    scheduler = StepLR(optimizer, step_size=lr_step_size, gamma=lr_gamma)\n",
    "\n",
    "    # Training loop\n",
    "    train_accs, test_accs = [], []\n",
    "    for epoch in range(num_epochs):\n",
    "        ds.train()  # Set dataset to training mode\n",
    "        model.train()  # Set model to training mode for dropout, batchnorm, etc.\n",
    "        total_predictions, correct_predictions = 0, 0  # Initialize counters for accuracy calculation\n",
    "        for inputs, targets in tqdm.tqdm(dataloader, desc=f\"Epoch {epoch}: \"):\n",
    "            if cuda:\n",
    "                inputs, targets = inputs.cuda(), targets.cuda()\n",
    "            optimizer.zero_grad()  # Clear previous gradients\n",
    "            outputs = model(inputs)  # Forward pass: compute predicted outputs by passing inputs to the model\n",
    "            total_predictions += targets.size(0)  # Count total predictions for accuracy calculation\n",
    "            # Count how many predictions match the targets\n",
    "            correct_predictions += (outputs.argmax(dim=1) == targets).sum()\n",
    "            loss = criterion(outputs, targets)  # Calculate the loss\n",
    "            loss.backward()  # Backward pass: compute gradient of the loss with respect to model parameters\n",
    "            optimizer.step()  # Perform a single optimization step (parameter update)\n",
    "        train_accuracy = correct_predictions / total_predictions  # Calculate training accuracy\n",
    "        train_accs.append(train_accuracy.cpu().numpy())\n",
    "\n",
    "        ds.eval()  # Set dataset to evaluation mode\n",
    "        model.eval()  # Set model to evaluation mode\n",
    "        total_predictions, correct_predictions = 0, 0  # Reset counters for accuracy calculation\n",
    "        with torch.no_grad():  # Disable gradient calculation for evaluation, saving memory and computations\n",
    "            test_data = DataLoader(ds, batch_size=batch_size, shuffle=False, num_workers=16, drop_last=True)\n",
    "            for inputs, targets in tqdm.tqdm(test_data, desc=f\"Testing\"):\n",
    "                if cuda:\n",
    "                    inputs, targets = inputs.cuda(), targets.cuda()\n",
    "                outputs = model(inputs)  # Forward pass: compute predicted outputs by passing inputs to the model\n",
    "                test_loss = criterion(outputs, targets)  # Calculate the loss\n",
    "                total_predictions += targets.size(0)  # Count total predictions for accuracy calculation\n",
    "                # Count how many predictions match the targets\n",
    "                correct_predictions += (outputs.argmax(dim=1) == targets).sum()\n",
    "        test_accuracy = correct_predictions / total_predictions  # Calculate test accuracy\n",
    "        test_accs.append(test_accuracy.cpu().numpy())\n",
    "        # Print epoch summary\n",
    "        print(f\"Epoch [{epoch + 1}/{num_epochs}], Learning Rate: {scheduler.get_last_lr()[0]:.6f}, \"\n",
    "              f\"Train Loss: {loss.item():.4f}, Test loss: {test_loss.item():.4f}, \"\n",
    "              f\"Train accuracy: {train_accuracy:.4f}, Test accuracy: {test_accuracy:.4f}\")\n",
    "        scheduler.step()  # Update the learning rate\n",
    "    return train_accs, test_accs"
   ],
   "metadata": {
    "collapsed": false,
    "ExecuteTime": {
     "end_time": "2024-04-21T10:34:05.205689Z",
     "start_time": "2024-04-21T10:34:05.195878Z"
    }
   },
   "id": "6595ddc06facddf3"
  },
  {
   "cell_type": "code",
   "execution_count": 10,
   "outputs": [
    {
     "name": "stdout",
     "output_type": "stream",
     "text": [
      "Train STSGd dataset\n"
     ]
    },
    {
     "name": "stderr",
     "output_type": "stream",
     "text": [
      "creating dataset: 100%|██████████| 4242/4242 [00:00<00:00, 4265.92it/s]\n",
      "calculating global vocab: 100%|██████████| 4242/4242 [00:02<00:00, 1420.74it/s]\n",
      "Epoch 0: 100%|██████████| 14/14 [02:15<00:00,  9.68s/it]\n",
      "/Users/rimma_vakhreeva/PycharmProjects/twits_classifier/venv/lib/python3.9/site-packages/torch/utils/data/dataloader.py:558: UserWarning: This DataLoader will create 16 worker processes in total. Our suggested max number of worker in current system is 10 (`cpuset` is not taken into account), which is smaller than what this DataLoader is going to create. Please be aware that excessive worker creation might get DataLoader running slow or even freeze, lower the worker number to avoid potential slowness/freeze if necessary.\n",
      "  warnings.warn(_create_warning_msg(\n",
      "Testing: 100%|██████████| 1/1 [00:09<00:00,  9.81s/it]\n"
     ]
    },
    {
     "name": "stdout",
     "output_type": "stream",
     "text": [
      "Epoch [1/10], Learning Rate: 0.005000, Train Loss: 0.5433, Test loss: 0.7972, Train accuracy: 0.9023, Test accuracy: 0.9570\n"
     ]
    },
    {
     "name": "stderr",
     "output_type": "stream",
     "text": [
      "Epoch 1: 100%|██████████| 14/14 [02:11<00:00,  9.40s/it]\n",
      "Testing: 100%|██████████| 1/1 [00:09<00:00,  9.21s/it]\n"
     ]
    },
    {
     "name": "stdout",
     "output_type": "stream",
     "text": [
      "Epoch [2/10], Learning Rate: 0.003000, Train Loss: 0.5840, Test loss: 0.6325, Train accuracy: 0.9735, Test accuracy: 0.9570\n"
     ]
    },
    {
     "name": "stderr",
     "output_type": "stream",
     "text": [
      "Epoch 2: 100%|██████████| 14/14 [02:05<00:00,  9.00s/it]\n",
      "Testing: 100%|██████████| 1/1 [00:09<00:00,  9.36s/it]\n"
     ]
    },
    {
     "name": "stdout",
     "output_type": "stream",
     "text": [
      "Epoch [3/10], Learning Rate: 0.001800, Train Loss: 0.1620, Test loss: 0.3427, Train accuracy: 0.9749, Test accuracy: 0.9648\n"
     ]
    },
    {
     "name": "stderr",
     "output_type": "stream",
     "text": [
      "Epoch 3: 100%|██████████| 14/14 [02:06<00:00,  9.05s/it]\n",
      "Testing: 100%|██████████| 1/1 [00:09<00:00,  9.21s/it]\n"
     ]
    },
    {
     "name": "stdout",
     "output_type": "stream",
     "text": [
      "Epoch [4/10], Learning Rate: 0.001080, Train Loss: 0.1737, Test loss: 0.2708, Train accuracy: 0.9738, Test accuracy: 0.9609\n"
     ]
    },
    {
     "name": "stderr",
     "output_type": "stream",
     "text": [
      "Epoch 4: 100%|██████████| 14/14 [02:05<00:00,  8.96s/it]\n",
      "Testing: 100%|██████████| 1/1 [00:09<00:00,  9.30s/it]\n"
     ]
    },
    {
     "name": "stdout",
     "output_type": "stream",
     "text": [
      "Epoch [5/10], Learning Rate: 0.000648, Train Loss: 0.1019, Test loss: 0.2491, Train accuracy: 0.9729, Test accuracy: 0.9648\n"
     ]
    },
    {
     "name": "stderr",
     "output_type": "stream",
     "text": [
      "Epoch 5: 100%|██████████| 14/14 [02:05<00:00,  8.98s/it]\n",
      "Testing: 100%|██████████| 1/1 [00:09<00:00,  9.20s/it]\n"
     ]
    },
    {
     "name": "stdout",
     "output_type": "stream",
     "text": [
      "Epoch [6/10], Learning Rate: 0.000389, Train Loss: 0.0616, Test loss: 0.2394, Train accuracy: 0.9763, Test accuracy: 0.9648\n"
     ]
    },
    {
     "name": "stderr",
     "output_type": "stream",
     "text": [
      "Epoch 6: 100%|██████████| 14/14 [02:06<00:00,  9.01s/it]\n",
      "Testing: 100%|██████████| 1/1 [00:09<00:00,  9.08s/it]\n"
     ]
    },
    {
     "name": "stdout",
     "output_type": "stream",
     "text": [
      "Epoch [7/10], Learning Rate: 0.000233, Train Loss: 0.0442, Test loss: 0.2378, Train accuracy: 0.9766, Test accuracy: 0.9648\n"
     ]
    },
    {
     "name": "stderr",
     "output_type": "stream",
     "text": [
      "Epoch 7: 100%|██████████| 14/14 [02:04<00:00,  8.91s/it]\n",
      "Testing: 100%|██████████| 1/1 [00:09<00:00,  9.13s/it]\n"
     ]
    },
    {
     "name": "stdout",
     "output_type": "stream",
     "text": [
      "Epoch [8/10], Learning Rate: 0.000140, Train Loss: 0.0744, Test loss: 0.2342, Train accuracy: 0.9774, Test accuracy: 0.9648\n"
     ]
    },
    {
     "name": "stderr",
     "output_type": "stream",
     "text": [
      "Epoch 8: 100%|██████████| 14/14 [02:02<00:00,  8.78s/it]\n",
      "Testing: 100%|██████████| 1/1 [00:08<00:00,  8.62s/it]\n"
     ]
    },
    {
     "name": "stdout",
     "output_type": "stream",
     "text": [
      "Epoch [9/10], Learning Rate: 0.000084, Train Loss: 0.1169, Test loss: 0.2330, Train accuracy: 0.9777, Test accuracy: 0.9648\n"
     ]
    },
    {
     "name": "stderr",
     "output_type": "stream",
     "text": [
      "Epoch 9: 100%|██████████| 14/14 [01:57<00:00,  8.38s/it]\n",
      "Testing: 100%|██████████| 1/1 [00:08<00:00,  8.70s/it]\n"
     ]
    },
    {
     "name": "stdout",
     "output_type": "stream",
     "text": [
      "Epoch [10/10], Learning Rate: 0.000050, Train Loss: 0.0311, Test loss: 0.2321, Train accuracy: 0.9774, Test accuracy: 0.9648\n"
     ]
    },
    {
     "data": {
      "text/plain": "<Figure size 1000x600 with 1 Axes>",
      "image/png": "[encoded data removed]"
     },
     "metadata": {},
     "output_type": "display_data"
    }
   ],
   "source": [
    "print(\"Train STSGd dataset\")\n",
    "train_acc, test_acc = train(\n",
    "    dropout_rate=0.3,\n",
    "    batch_size=256,\n",
    "    num_workers=4,\n",
    "    datasets=(\"STSGd\",),\n",
    "    cuda=False\n",
    ")\n",
    "plot_acc(train_acc, test_acc)"
   ],
   "metadata": {
    "collapsed": false,
    "ExecuteTime": {
     "end_time": "2024-04-21T10:57:21.530860Z",
     "start_time": "2024-04-21T10:34:05.202238Z"
    }
   },
   "id": "7b4417b2d761e94d"
  },
  {
   "cell_type": "code",
   "execution_count": 11,
   "outputs": [
    {
     "name": "stdout",
     "output_type": "stream",
     "text": [
      "Train Sentiment140 dataset\n"
     ]
    },
    {
     "name": "stderr",
     "output_type": "stream",
     "text": [
      "creating dataset: 100%|██████████| 1600000/1600000 [04:36<00:00, 5795.71it/s]\n",
      "calculating global vocab: 100%|██████████| 10000/10000 [00:11<00:00, 906.76it/s]\n",
      "/Users/rimma_vakhreeva/PycharmProjects/twits_classifier/venv/lib/python3.9/site-packages/torch/utils/data/dataloader.py:558: UserWarning: This DataLoader will create 16 worker processes in total. Our suggested max number of worker in current system is 10 (`cpuset` is not taken into account), which is smaller than what this DataLoader is going to create. Please be aware that excessive worker creation might get DataLoader running slow or even freeze, lower the worker number to avoid potential slowness/freeze if necessary.\n",
      "  warnings.warn(_create_warning_msg(\n",
      "Epoch 0: 100%|██████████| 5625/5625 [13:46:24<00:00,  8.81s/it]  \n",
      "Testing: 100%|██████████| 625/625 [1:25:44<00:00,  8.23s/it]\n"
     ]
    },
    {
     "name": "stdout",
     "output_type": "stream",
     "text": [
      "Epoch [1/10], Learning Rate: 0.005000, Train Loss: 0.4731, Test loss: 0.4542, Train accuracy: 0.7844, Test accuracy: 0.7910\n"
     ]
    },
    {
     "name": "stderr",
     "output_type": "stream",
     "text": [
      "Epoch 1: 100%|██████████| 5625/5625 [25:49:06<00:00, 16.52s/it]    \n",
      "Testing: 100%|██████████| 625/625 [1:46:35<00:00, 10.23s/it]\n"
     ]
    },
    {
     "name": "stdout",
     "output_type": "stream",
     "text": [
      "Epoch [2/10], Learning Rate: 0.003000, Train Loss: 0.4369, Test loss: 0.4255, Train accuracy: 0.8033, Test accuracy: 0.8044\n"
     ]
    },
    {
     "name": "stderr",
     "output_type": "stream",
     "text": [
      "Epoch 2: 100%|██████████| 5625/5625 [30:23:28<00:00, 19.45s/it]     \n",
      "Testing: 100%|██████████| 625/625 [1:46:37<00:00, 10.24s/it]  \n"
     ]
    },
    {
     "name": "stdout",
     "output_type": "stream",
     "text": [
      "Epoch [3/10], Learning Rate: 0.001800, Train Loss: 0.4179, Test loss: 0.4324, Train accuracy: 0.8140, Test accuracy: 0.8053\n"
     ]
    },
    {
     "name": "stderr",
     "output_type": "stream",
     "text": [
      "Epoch 3: 100%|██████████| 5625/5625 [17:49:27<00:00, 11.41s/it]   \n",
      "Testing: 100%|██████████| 625/625 [1:36:40<00:00,  9.28s/it]\n"
     ]
    },
    {
     "name": "stdout",
     "output_type": "stream",
     "text": [
      "Epoch [4/10], Learning Rate: 0.001080, Train Loss: 0.4040, Test loss: 0.4337, Train accuracy: 0.8241, Test accuracy: 0.8053\n"
     ]
    },
    {
     "name": "stderr",
     "output_type": "stream",
     "text": [
      "Epoch 4: 100%|██████████| 5625/5625 [17:36:11<00:00, 11.27s/it]  \n",
      "Testing: 100%|██████████| 625/625 [1:44:20<00:00, 10.02s/it]\n"
     ]
    },
    {
     "name": "stdout",
     "output_type": "stream",
     "text": [
      "Epoch [5/10], Learning Rate: 0.000648, Train Loss: 0.4140, Test loss: 0.4409, Train accuracy: 0.8326, Test accuracy: 0.8053\n"
     ]
    },
    {
     "name": "stderr",
     "output_type": "stream",
     "text": [
      "Epoch 5: 100%|██████████| 5625/5625 [17:25:22<00:00, 11.15s/it]  \n",
      "Testing: 100%|██████████| 625/625 [1:40:26<00:00,  9.64s/it]\n"
     ]
    },
    {
     "name": "stdout",
     "output_type": "stream",
     "text": [
      "Epoch [6/10], Learning Rate: 0.000389, Train Loss: 0.3654, Test loss: 0.4688, Train accuracy: 0.8393, Test accuracy: 0.8037\n"
     ]
    },
    {
     "name": "stderr",
     "output_type": "stream",
     "text": [
      "Epoch 6: 100%|██████████| 5625/5625 [16:56:43<00:00, 10.85s/it]  \n",
      "Testing: 100%|██████████| 625/625 [1:43:33<00:00,  9.94s/it]\n"
     ]
    },
    {
     "name": "stdout",
     "output_type": "stream",
     "text": [
      "Epoch [7/10], Learning Rate: 0.000233, Train Loss: 0.3421, Test loss: 0.5008, Train accuracy: 0.8439, Test accuracy: 0.8021\n"
     ]
    },
    {
     "name": "stderr",
     "output_type": "stream",
     "text": [
      "Epoch 7: 100%|██████████| 5625/5625 [17:05:43<00:00, 10.94s/it]  \n",
      "Testing: 100%|██████████| 625/625 [1:42:29<00:00,  9.84s/it]\n"
     ]
    },
    {
     "name": "stdout",
     "output_type": "stream",
     "text": [
      "Epoch [8/10], Learning Rate: 0.000140, Train Loss: 0.3403, Test loss: 0.5154, Train accuracy: 0.8467, Test accuracy: 0.8016\n"
     ]
    },
    {
     "name": "stderr",
     "output_type": "stream",
     "text": [
      "Epoch 8: 100%|██████████| 5625/5625 [17:06:43<00:00, 10.95s/it]  \n",
      "Testing: 100%|██████████| 625/625 [1:41:57<00:00,  9.79s/it]\n"
     ]
    },
    {
     "name": "stdout",
     "output_type": "stream",
     "text": [
      "Epoch [9/10], Learning Rate: 0.000084, Train Loss: 0.2793, Test loss: 0.5235, Train accuracy: 0.8488, Test accuracy: 0.8009\n"
     ]
    },
    {
     "name": "stderr",
     "output_type": "stream",
     "text": [
      "Epoch 9: 100%|██████████| 5625/5625 [17:14:12<00:00, 11.03s/it]   \n",
      "Testing: 100%|██████████| 625/625 [1:41:55<00:00,  9.78s/it]\n"
     ]
    },
    {
     "name": "stdout",
     "output_type": "stream",
     "text": [
      "Epoch [10/10], Learning Rate: 0.000050, Train Loss: 0.3189, Test loss: 0.5288, Train accuracy: 0.8499, Test accuracy: 0.8009\n"
     ]
    },
    {
     "data": {
      "text/plain": "<Figure size 1000x600 with 1 Axes>",
      "image/png": "[encoded data removed]"
     },
     "metadata": {},
     "output_type": "display_data"
    }
   ],
   "source": [
    "print(\"Train Sentiment140 dataset\")\n",
    "train_acc, test_acc = train(\n",
    "    dropout_rate=0.05,\n",
    "    batch_size=256,\n",
    "    datasets=(\"Sentiment140\",),\n",
    "    cuda=False,\n",
    "    ds_limit_size=1600000\n",
    ")\n",
    "plot_acc(train_acc, test_acc)"
   ],
   "metadata": {
    "collapsed": false,
    "ExecuteTime": {
     "end_time": "2024-04-30T03:06:48.711428Z",
     "start_time": "2024-04-21T10:57:21.479752Z"
    }
   },
   "id": "bd58e824a0de933f"
  },
  {
   "cell_type": "code",
   "execution_count": null,
   "outputs": [],
   "source": [],
   "metadata": {
    "collapsed": false
   },
   "id": "35c9e4f0814bcae4"
  }
 ],
 "metadata": {
  "kernelspec": {
   "display_name": "Python 3",
   "language": "python",
   "name": "python3"
  },
  "language_info": {
   "codemirror_mode": {
    "name": "ipython",
    "version": 2
   },
   "file_extension": ".py",
   "mimetype": "text/x-python",
   "name": "python",
   "nbconvert_exporter": "python",
   "pygments_lexer": "ipython2",
   "version": "2.7.6"
  }
 },
 "nbformat": 4,
 "nbformat_minor": 5
}
